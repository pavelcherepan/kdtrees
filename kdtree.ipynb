{
 "cells": [
  {
   "cell_type": "code",
   "execution_count": 2,
   "metadata": {},
   "outputs": [],
   "source": [
    "from timeit import timeit\n",
    "\n",
    "import numpy as np\n",
    "import pandas as pd\n",
    "from scipy.spatial import KDTree as scTree\n",
    "from sklearn.neighbors import KDTree as skTree"
   ]
  },
  {
   "attachments": {},
   "cell_type": "markdown",
   "metadata": {},
   "source": [
    "First we read the data from the csv. Latitude and longitude will be used to build the K-dimensional tree."
   ]
  },
  {
   "cell_type": "code",
   "execution_count": 5,
   "metadata": {},
   "outputs": [
    {
     "name": "stdout",
     "output_type": "stream",
     "text": [
      "(42905, 11)\n",
      "Index(['city', 'city_ascii', 'lat', 'lng', 'country', 'iso2', 'iso3',\n",
      "       'admin_name', 'capital', 'population', 'id'],\n",
      "      dtype='object')\n"
     ]
    }
   ],
   "source": [
    "df = pd.read_csv('worldcities.csv')\n",
    "print(df.shape)\n",
    "print(df.columns)"
   ]
  },
  {
   "attachments": {},
   "cell_type": "markdown",
   "metadata": {},
   "source": [
    "We'll use values from \"lat\" and \"lng\" columns to build the tree."
   ]
  },
  {
   "cell_type": "code",
   "execution_count": 8,
   "metadata": {},
   "outputs": [],
   "source": [
    "coord = df.loc[:, ['lat', 'lng']].values"
   ]
  },
  {
   "attachments": {},
   "cell_type": "markdown",
   "metadata": {},
   "source": [
    "Creating trees using both implementations - Scipy and Scikit-learn."
   ]
  },
  {
   "cell_type": "code",
   "execution_count": 18,
   "metadata": {},
   "outputs": [],
   "source": [
    "scp_tree = scTree(coord, leafsize=1)\n",
    "skl_tree = skTree(coord, leaf_size=1)"
   ]
  },
  {
   "attachments": {},
   "cell_type": "markdown",
   "metadata": {},
   "source": [
    "To lookup the data we need to provide a 2-dimensional array in the shape [n_samples, n_attributes]."
   ]
  },
  {
   "cell_type": "code",
   "execution_count": 36,
   "metadata": {},
   "outputs": [
    {
     "data": {
      "text/plain": [
       "(1, 2)"
      ]
     },
     "execution_count": 36,
     "metadata": {},
     "output_type": "execute_result"
    }
   ],
   "source": [
    "lookup = np.array([38.65645570177941, -78.03798797140651]).reshape(1, -1)\n",
    "lookup.shape"
   ]
  },
  {
   "attachments": {},
   "cell_type": "markdown",
   "metadata": {},
   "source": [
    "The query method has similar implementation in both libraries and returns a tuple of distance for our point(s) and the integer value corre4sponding to the index in the original data."
   ]
  },
  {
   "cell_type": "code",
   "execution_count": 37,
   "metadata": {},
   "outputs": [],
   "source": [
    "dist, idx = scp_tree.query(lookup)"
   ]
  },
  {
   "attachments": {},
   "cell_type": "markdown",
   "metadata": {},
   "source": [
    "Now we can use the returned index to query the original dataframe and find out what the nearest town was."
   ]
  },
  {
   "cell_type": "code",
   "execution_count": 20,
   "metadata": {},
   "outputs": [
    {
     "data": {
      "text/plain": [
       "city               Culpeper\n",
       "city_ascii         Culpeper\n",
       "lat                 38.4705\n",
       "lng                -78.0001\n",
       "country       United States\n",
       "iso2                     US\n",
       "iso3                    USA\n",
       "admin_name         Virginia\n",
       "capital                 NaN\n",
       "population          20485.0\n",
       "id               1840006169\n",
       "Name: 20475, dtype: object"
      ]
     },
     "execution_count": 20,
     "metadata": {},
     "output_type": "execute_result"
    }
   ],
   "source": [
    "df.loc[idx, :]"
   ]
  },
  {
   "attachments": {},
   "cell_type": "markdown",
   "metadata": {},
   "source": [
    "Let's test time performance:"
   ]
  },
  {
   "cell_type": "code",
   "execution_count": 46,
   "metadata": {},
   "outputs": [
    {
     "name": "stdout",
     "output_type": "stream",
     "text": [
      "Scipy: 0.0114 seconds, Sklearn: 0.0181 seconds\n",
      "Sklearn is 1.59 times slower\n"
     ]
    }
   ],
   "source": [
    "b1 = timeit(\"scTree(coord, leafsize=1)\", globals=globals(), number=100) / 100\n",
    "b2 = timeit(\"skTree(coord, leaf_size=1)\", globals=globals(), number=100) / 100\n",
    "print(f'Building the tree: Scipy: {b1:.4f} seconds, Sklearn: {b2:.4f} seconds')\n",
    "print(f'Sklearn is {b2/b1:.2f} times slower')"
   ]
  },
  {
   "cell_type": "code",
   "execution_count": 60,
   "metadata": {},
   "outputs": [
    {
     "name": "stdout",
     "output_type": "stream",
     "text": [
      "Query: Scipy: 0.00002, Sklearn: 0.00004\n",
      "Sklearn is 1.98 times slower\n"
     ]
    }
   ],
   "source": [
    "q1 = timeit(\"scp_tree.query(lookup)\", globals=globals(), number=10000) / 10000\n",
    "q2 = timeit(\"skl_tree.query(lookup)\", globals=globals(), number=10000) / 10000\n",
    "print(f'Query: Scipy: {q1:.5f}, Sklearn: {q2:.5f}')\n",
    "print(f'Sklearn is {q2/q1:.2f} times slower')"
   ]
  },
  {
   "attachments": {},
   "cell_type": "markdown",
   "metadata": {},
   "source": [
    "For both building of a tree and querying, Scipy is significantly faster. This difference becomes even greater with the increase in the size of data."
   ]
  }
 ],
 "metadata": {
  "kernelspec": {
   "display_name": "venv",
   "language": "python",
   "name": "python3"
  },
  "language_info": {
   "codemirror_mode": {
    "name": "ipython",
    "version": 3
   },
   "file_extension": ".py",
   "mimetype": "text/x-python",
   "name": "python",
   "nbconvert_exporter": "python",
   "pygments_lexer": "ipython3",
   "version": "3.10.6"
  },
  "orig_nbformat": 4,
  "vscode": {
   "interpreter": {
    "hash": "741b485f767c89abdeb73280ae43a674c88c79ea1cb518b30fe5132e9dcb717c"
   }
  }
 },
 "nbformat": 4,
 "nbformat_minor": 2
}
